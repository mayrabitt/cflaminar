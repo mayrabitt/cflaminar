{
 "cells": [
  {
   "cell_type": "code",
   "execution_count": 1,
   "metadata": {
    "collapsed": false,
    "pycharm": {
     "name": "#%%\n"
    }
   },
   "outputs": [],
   "source": [
    "import numpy as np\n",
    "import matplotlib.pyplot as plt\n",
    "import nibabel as nib\n",
    "import os"
   ]
  },
  {
   "cell_type": "code",
   "execution_count": 3,
   "metadata": {
    "collapsed": false,
    "pycharm": {
     "name": "#%%\n"
    }
   },
   "outputs": [],
   "source": [
    "subject='sub-001'\n",
    "MAIN_PATH=os.getenv('DERIVATIVES')\n",
    "denoising='pybest'\n",
    "depth='GM'"
   ]
  },
  {
   "cell_type": "code",
   "execution_count": 68,
   "metadata": {
    "collapsed": false,
    "pycharm": {
     "name": "#%%\n"
    }
   },
   "outputs": [],
   "source": [
    "#In case of laminar analysis, we import outputs from pybest in the func space as giftis and have to calculate psc ourselves for each layer. If outputs from pybest are in .npy format, we can run fitprf (master -m 17) from linescanning pipeline and get the psc calculation from the derivatives/prf folder. Therefore, we here reproduce the psc calculation, first in an usual case (non-laminar) where we do have the outputs in the fsnative space as .npy. NOTE: this has been previously checked and will be removed.\n",
    "\n",
    "pybest_tc_L = []\n",
    "pybest_tc_R = []\n",
    "pybest_tc = []\n",
    "\n",
    "#Get pybest outputs as .npy files and calculate psc:\n",
    "for run in range(4):\n",
    "    pybest_tc_L = np.load(\n",
    "        f'{MAIN_PATH}/pybest/{subject}/ses-1/unzscored/{subject}_ses-1_task-ret_run-{run + 1}_space-fsnative_hemi-L_desc-denoised_bold.npy')\n",
    "    pybest_tc_R = np.load(\n",
    "        f'{MAIN_PATH}/pybest/{subject}/ses-1/unzscored/{subject}_ses-1_task-ret_run-{run + 1}_space-fsnative_hemi-R_desc-denoised_bold.npy')\n",
    "    tc = np.concatenate([pybest_tc_L, pybest_tc_R], axis=1)\n",
    "    tc_m = tc * np.expand_dims(np.nan_to_num((100 / np.mean(tc, axis=0))), axis=0)\n",
    "    baseline = np.median(tc_m[0:19], axis=0)\n",
    "    tc_m = tc_m - baseline\n",
    "    pybest_tc.append(tc_m)\n",
    "\n",
    "mean_pybest_tc = np.median(np.array(pybest_tc), axis=0)\n",
    "psc = (mean_pybest_tc)"
   ]
  },
  {
   "cell_type": "code",
   "execution_count": 6,
   "metadata": {
    "collapsed": false,
    "pycharm": {
     "name": "#%%\n"
    }
   },
   "outputs": [],
   "source": [
    "path=f'{MAIN_PATH}/pRFM/{subject}/ses-1/{denoising}/'\n",
    "os.makedirs(path, exist_ok=True)\n",
    "#np.save(\"./pilot1-fsnativeWNORDIC_lamGM/fast_fit/sub-001_ses-1_task-ret_hemi-LR_desc-avg_bold_lamGM.npy\",psc)\n",
    "np.save(f'{MAIN_PATH}/pRFM/{subject}/ses-1/{denoising}/{subject}_ses-1_task-ret_hemi-LR_desc-avg_bold_{depth}.npy',psc)"
   ]
  },
  {
   "cell_type": "code",
   "execution_count": 33,
   "metadata": {
    "collapsed": false,
    "pycharm": {
     "name": "#%%\n"
    }
   },
   "outputs": [],
   "source": []
  },
  {
   "cell_type": "code",
   "execution_count": 33,
   "metadata": {
    "collapsed": false,
    "pycharm": {
     "name": "#%%\n"
    }
   },
   "outputs": [],
   "source": []
  }
 ],
 "metadata": {
  "kernelspec": {
   "display_name": "Python 3",
   "language": "python",
   "name": "python3"
  },
  "language_info": {
   "codemirror_mode": {
    "name": "ipython",
    "version": 3
   },
   "file_extension": ".py",
   "mimetype": "text/x-python",
   "name": "python",
   "nbconvert_exporter": "python",
   "pygments_lexer": "ipython3",
   "version": "3.11.5"
  }
 },
 "nbformat": 4,
 "nbformat_minor": 0
}
